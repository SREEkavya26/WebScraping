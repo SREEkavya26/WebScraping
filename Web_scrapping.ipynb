{
  "cells": [
    {
      "cell_type": "code",
      "execution_count": 26,
      "metadata": {
        "id": "vW68uQagmPqa"
      },
      "outputs": [],
      "source": [
        "url = \"https://www.amazon.in/product-reviews/B08L5TNJHG/ref=cm_cr_arp_d_show_all?ie=UTF8&reviewerType=all_reviews&pageNumber=1#reviews\"\n"
      ]
    },
    {
      "cell_type": "code",
      "execution_count": 27,
      "metadata": {
        "id": "WD04IoNFmmSk"
      },
      "outputs": [],
      "source": [
        "import requests\n",
        "from bs4 import BeautifulSoup"
      ]
    },
    {
      "cell_type": "code",
      "execution_count": 28,
      "metadata": {
        "colab": {
          "base_uri": "https://localhost:8080/"
        },
        "id": "txMQKVy3mmlv",
        "outputId": "64b80c1d-f1ba-42fa-b6ed-0ea41d7e9abb"
      },
      "outputs": [
        {
          "output_type": "execute_result",
          "data": {
            "text/plain": [
              "<Response [200]>"
            ]
          },
          "metadata": {},
          "execution_count": 28
        }
      ],
      "source": [
        "page = requests.get(url)\n",
        "page\n"
      ]
    },
    {
      "cell_type": "code",
      "source": [
        "soup = BeautifulSoup(page.content,'html.parser')\n",
        "#print(soup.prettify())"
      ],
      "metadata": {
        "id": "hipFWRaxQdh-"
      },
      "execution_count": 29,
      "outputs": []
    },
    {
      "cell_type": "code",
      "source": [
        "name = soup.find_all(\"span\",class_=\"a-profile-name\")\n",
        "name"
      ],
      "metadata": {
        "colab": {
          "base_uri": "https://localhost:8080/"
        },
        "id": "YKp6_UzoQdlI",
        "outputId": "c7dab2d9-e8fc-458c-a962-e292de58ee7f"
      },
      "execution_count": 30,
      "outputs": [
        {
          "output_type": "execute_result",
          "data": {
            "text/plain": [
              "[<span class=\"a-profile-name\">Amazon Customer</span>,\n",
              " <span class=\"a-profile-name\">Akash Sinha</span>,\n",
              " <span class=\"a-profile-name\">Amazon Customer</span>,\n",
              " <span class=\"a-profile-name\">Akash Sinha</span>,\n",
              " <span class=\"a-profile-name\">Akash Sinha</span>,\n",
              " <span class=\"a-profile-name\">S.Siva Ram Kris</span>,\n",
              " <span class=\"a-profile-name\">S.Siva Ram Kris</span>,\n",
              " <span class=\"a-profile-name\">Anupam</span>,\n",
              " <span class=\"a-profile-name\">Paras</span>,\n",
              " <span class=\"a-profile-name\">Paras</span>,\n",
              " <span class=\"a-profile-name\">Debabrato Chakraborty </span>,\n",
              " <span class=\"a-profile-name\">Elliot</span>,\n",
              " <span class=\"a-profile-name\">Chetan Pamini</span>,\n",
              " <span class=\"a-profile-name\">Chetan Pamini</span>,\n",
              " <span class=\"a-profile-name\">RakhuNathan</span>,\n",
              " <span class=\"a-profile-name\">Mr. k  singh</span>,\n",
              " <span class=\"a-profile-name\">Mr. k  singh</span>]"
            ]
          },
          "metadata": {},
          "execution_count": 30
        }
      ]
    },
    {
      "cell_type": "code",
      "source": [
        "reviewer_name = []\n",
        "reviewer =[]\n",
        "for i in range(0,len(name)):\n",
        "    reviewer_name.append(name[i].get_text())\n",
        "reviewer_name"
      ],
      "metadata": {
        "colab": {
          "base_uri": "https://localhost:8080/"
        },
        "id": "XY6foJcTQdny",
        "outputId": "41a7500b-a94f-404c-b60b-429f88380bed"
      },
      "execution_count": 31,
      "outputs": [
        {
          "output_type": "execute_result",
          "data": {
            "text/plain": [
              "['Amazon Customer',\n",
              " 'Akash Sinha',\n",
              " 'Amazon Customer',\n",
              " 'Akash Sinha',\n",
              " 'Akash Sinha',\n",
              " 'S.Siva Ram Kris',\n",
              " 'S.Siva Ram Kris',\n",
              " 'Anupam',\n",
              " 'Paras',\n",
              " 'Paras',\n",
              " 'Debabrato Chakraborty ',\n",
              " 'Elliot',\n",
              " 'Chetan Pamini',\n",
              " 'Chetan Pamini',\n",
              " 'RakhuNathan',\n",
              " 'Mr. k  singh',\n",
              " 'Mr. k  singh']"
            ]
          },
          "metadata": {},
          "execution_count": 31
        }
      ]
    },
    {
      "cell_type": "code",
      "source": [
        "reviewer = []\n",
        "for i in range(0,len(reviewer_name)):\n",
        "  #print(reviewer)\n",
        "  if reviewer_name[i] not in reviewer:\n",
        "    reviewer.append(reviewer_name[i])\n",
        "reviewer"
      ],
      "metadata": {
        "colab": {
          "base_uri": "https://localhost:8080/"
        },
        "id": "DP40wGuXQdql",
        "outputId": "12d59bfe-97e8-40b7-917b-174e3d95e0eb"
      },
      "execution_count": 32,
      "outputs": [
        {
          "output_type": "execute_result",
          "data": {
            "text/plain": [
              "['Amazon Customer',\n",
              " 'Akash Sinha',\n",
              " 'S.Siva Ram Kris',\n",
              " 'Anupam',\n",
              " 'Paras',\n",
              " 'Debabrato Chakraborty ',\n",
              " 'Elliot',\n",
              " 'Chetan Pamini',\n",
              " 'RakhuNathan',\n",
              " 'Mr. k  singh']"
            ]
          },
          "metadata": {},
          "execution_count": 32
        }
      ]
    },
    {
      "cell_type": "code",
      "source": [
        "title=soup.find_all(\"a\",{\"data-hook\":\"review-title\"})\n",
        "len(title)"
      ],
      "metadata": {
        "colab": {
          "base_uri": "https://localhost:8080/"
        },
        "id": "9brmFAlPQdtQ",
        "outputId": "6f2e3827-7834-4b45-df71-4382ada10160"
      },
      "execution_count": 33,
      "outputs": [
        {
          "output_type": "execute_result",
          "data": {
            "text/plain": [
              "10"
            ]
          },
          "metadata": {},
          "execution_count": 33
        }
      ]
    },
    {
      "cell_type": "code",
      "source": [
        "review_title=[]\n",
        "for i in range(0,len(title)):\n",
        "  review_title.append(title[i].get_text())\n",
        "review_title"
      ],
      "metadata": {
        "colab": {
          "base_uri": "https://localhost:8080/"
        },
        "id": "lMaRZUG4Qdv2",
        "outputId": "6172f1ee-f7cb-4a76-d605-c942fa32bbb7"
      },
      "execution_count": 34,
      "outputs": [
        {
          "output_type": "execute_result",
          "data": {
            "text/plain": [
              "['\\nKidney as a load balancer\\n',\n",
              " '\\nWorst battery\\n',\n",
              " '\\nAnother Fabulous IPhone ( IPhone 12, Blue 64GB)\\n',\n",
              " '\\nThis phone is a joke and the joke is on us!!! Don’t buy this phone.\\n',\n",
              " '\\nThe Beast\\n',\n",
              " \"\\nDon't Buy from Amazon\\n\",\n",
              " '\\nBeast🤩🤩🤩🤩\\n',\n",
              " '\\n99.99% Perfect Smartphone !!\\n',\n",
              " '\\nNot Really worth the money\\n',\n",
              " '\\nPerformance is excellent,battery draining too fast and heating issue\\n']"
            ]
          },
          "metadata": {},
          "execution_count": 34
        }
      ]
    },
    {
      "cell_type": "code",
      "source": [
        "review_title[:] = [title.lstrip('\\n') for title in review_title]\n",
        "review_title[:] = [title.rstrip('\\n') for title in review_title]\n",
        "\n",
        "review_title"
      ],
      "metadata": {
        "colab": {
          "base_uri": "https://localhost:8080/"
        },
        "id": "t0dl2uaBQdyZ",
        "outputId": "2a0c0cac-3fc8-456a-ded9-a8289fe4f587"
      },
      "execution_count": 35,
      "outputs": [
        {
          "output_type": "execute_result",
          "data": {
            "text/plain": [
              "['Kidney as a load balancer',\n",
              " 'Worst battery',\n",
              " 'Another Fabulous IPhone ( IPhone 12, Blue 64GB)',\n",
              " 'This phone is a joke and the joke is on us!!! Don’t buy this phone.',\n",
              " 'The Beast',\n",
              " \"Don't Buy from Amazon\",\n",
              " 'Beast🤩🤩🤩🤩',\n",
              " '99.99% Perfect Smartphone !!',\n",
              " 'Not Really worth the money',\n",
              " 'Performance is excellent,battery draining too fast and heating issue']"
            ]
          },
          "metadata": {},
          "execution_count": 35
        }
      ]
    },
    {
      "cell_type": "code",
      "source": [
        "rate = soup.find_all(\"i\",{\"data-hook\":\"review-star-rating\"})\n",
        "rate  "
      ],
      "metadata": {
        "colab": {
          "base_uri": "https://localhost:8080/"
        },
        "id": "vNvMimUQQd9t",
        "outputId": "f3e4afb4-2b21-441a-a727-c0be38e6b2d0"
      },
      "execution_count": 36,
      "outputs": [
        {
          "output_type": "execute_result",
          "data": {
            "text/plain": [
              "[<i class=\"a-icon a-icon-star a-star-4 review-rating\" data-hook=\"review-star-rating\"><span class=\"a-icon-alt\">4.0 out of 5 stars</span></i>,\n",
              " <i class=\"a-icon a-icon-star a-star-3 review-rating\" data-hook=\"review-star-rating\"><span class=\"a-icon-alt\">3.0 out of 5 stars</span></i>,\n",
              " <i class=\"a-icon a-icon-star a-star-5 review-rating\" data-hook=\"review-star-rating\"><span class=\"a-icon-alt\">5.0 out of 5 stars</span></i>,\n",
              " <i class=\"a-icon a-icon-star a-star-1 review-rating\" data-hook=\"review-star-rating\"><span class=\"a-icon-alt\">1.0 out of 5 stars</span></i>,\n",
              " <i class=\"a-icon a-icon-star a-star-5 review-rating\" data-hook=\"review-star-rating\"><span class=\"a-icon-alt\">5.0 out of 5 stars</span></i>,\n",
              " <i class=\"a-icon a-icon-star a-star-1 review-rating\" data-hook=\"review-star-rating\"><span class=\"a-icon-alt\">1.0 out of 5 stars</span></i>,\n",
              " <i class=\"a-icon a-icon-star a-star-4 review-rating\" data-hook=\"review-star-rating\"><span class=\"a-icon-alt\">4.0 out of 5 stars</span></i>,\n",
              " <i class=\"a-icon a-icon-star a-star-5 review-rating\" data-hook=\"review-star-rating\"><span class=\"a-icon-alt\">5.0 out of 5 stars</span></i>,\n",
              " <i class=\"a-icon a-icon-star a-star-4 review-rating\" data-hook=\"review-star-rating\"><span class=\"a-icon-alt\">4.0 out of 5 stars</span></i>,\n",
              " <i class=\"a-icon a-icon-star a-star-4 review-rating\" data-hook=\"review-star-rating\"><span class=\"a-icon-alt\">4.0 out of 5 stars</span></i>]"
            ]
          },
          "metadata": {},
          "execution_count": 36
        }
      ]
    },
    {
      "cell_type": "code",
      "source": [
        "rating=[]\n",
        "for i in range(0,len(rate)):\n",
        "  rating.append(rate[i].get_text())\n",
        "rating"
      ],
      "metadata": {
        "colab": {
          "base_uri": "https://localhost:8080/"
        },
        "id": "WVPvkYYbQd__",
        "outputId": "ff2a0146-9468-4456-ab46-cc813fda5466"
      },
      "execution_count": 37,
      "outputs": [
        {
          "output_type": "execute_result",
          "data": {
            "text/plain": [
              "['4.0 out of 5 stars',\n",
              " '3.0 out of 5 stars',\n",
              " '5.0 out of 5 stars',\n",
              " '1.0 out of 5 stars',\n",
              " '5.0 out of 5 stars',\n",
              " '1.0 out of 5 stars',\n",
              " '4.0 out of 5 stars',\n",
              " '5.0 out of 5 stars',\n",
              " '4.0 out of 5 stars',\n",
              " '4.0 out of 5 stars']"
            ]
          },
          "metadata": {},
          "execution_count": 37
        }
      ]
    },
    {
      "cell_type": "code",
      "source": [
        "date = soup.find_all(\"span\",{\"data-hook\":\"review-date\"})\n",
        "date"
      ],
      "metadata": {
        "colab": {
          "base_uri": "https://localhost:8080/"
        },
        "id": "TEr9-yKZQeD0",
        "outputId": "59891c2b-2814-4f2a-de2b-6595c3c15288"
      },
      "execution_count": 38,
      "outputs": [
        {
          "output_type": "execute_result",
          "data": {
            "text/plain": [
              "[<span class=\"a-size-base a-color-secondary review-date\" data-hook=\"review-date\">Reviewed in India on 21 November 2020</span>,\n",
              " <span class=\"a-size-base a-color-secondary review-date\" data-hook=\"review-date\">Reviewed in India on 7 November 2020</span>,\n",
              " <span class=\"a-size-base a-color-secondary review-date\" data-hook=\"review-date\">Reviewed in India on 7 November 2020</span>,\n",
              " <span class=\"a-size-base a-color-secondary review-date\" data-hook=\"review-date\">Reviewed in India on 7 January 2021</span>,\n",
              " <span class=\"a-size-base a-color-secondary review-date\" data-hook=\"review-date\">Reviewed in India on 13 November 2020</span>,\n",
              " <span class=\"a-size-base a-color-secondary review-date\" data-hook=\"review-date\">Reviewed in India on 7 February 2021</span>,\n",
              " <span class=\"a-size-base a-color-secondary review-date\" data-hook=\"review-date\">Reviewed in India on 9 November 2020</span>,\n",
              " <span class=\"a-size-base a-color-secondary review-date\" data-hook=\"review-date\">Reviewed in India on 8 November 2020</span>,\n",
              " <span class=\"a-size-base a-color-secondary review-date\" data-hook=\"review-date\">Reviewed in India on 18 December 2020</span>,\n",
              " <span class=\"a-size-base a-color-secondary review-date\" data-hook=\"review-date\">Reviewed in India on 7 November 2020</span>]"
            ]
          },
          "metadata": {},
          "execution_count": 38
        }
      ]
    },
    {
      "cell_type": "code",
      "source": [
        "rating_date = []\n",
        "for i in range(0,len(date)):\n",
        "  rating_date.append(date[i].get_text())\n",
        "rating_date"
      ],
      "metadata": {
        "colab": {
          "base_uri": "https://localhost:8080/"
        },
        "id": "8TIS7h0lQeIT",
        "outputId": "5d2f3b82-b9b7-4436-df48-d1bd4138e45a"
      },
      "execution_count": 39,
      "outputs": [
        {
          "output_type": "execute_result",
          "data": {
            "text/plain": [
              "['Reviewed in India on 21 November 2020',\n",
              " 'Reviewed in India on 7 November 2020',\n",
              " 'Reviewed in India on 7 November 2020',\n",
              " 'Reviewed in India on 7 January 2021',\n",
              " 'Reviewed in India on 13 November 2020',\n",
              " 'Reviewed in India on 7 February 2021',\n",
              " 'Reviewed in India on 9 November 2020',\n",
              " 'Reviewed in India on 8 November 2020',\n",
              " 'Reviewed in India on 18 December 2020',\n",
              " 'Reviewed in India on 7 November 2020']"
            ]
          },
          "metadata": {},
          "execution_count": 39
        }
      ]
    },
    {
      "cell_type": "code",
      "source": [
        "data=soup.find_all(\"span\",{\"data-hook\":\"review-body\"})\n",
        "data"
      ],
      "metadata": {
        "colab": {
          "base_uri": "https://localhost:8080/"
        },
        "id": "BvfwZmAIQeK6",
        "outputId": "d647cc77-1872-4131-a3bd-74b6a2ce9829"
      },
      "execution_count": 40,
      "outputs": [
        {
          "output_type": "execute_result",
          "data": {
            "text/plain": [
              "[<span class=\"a-size-base review-text review-text-content\" data-hook=\"review-body\">\n",
              " <span>\n",
              "   Sold kidney bought this, now not feeling well but the number of days I am alive with one kidney will enjoy using this phone. Guys be careful if you rich it’s ok else sell something else but not kidney it hurts\n",
              " </span>\n",
              " </span>,\n",
              " <span class=\"a-size-base review-text review-text-content\" data-hook=\"review-body\">\n",
              " <span>\n",
              "   Worst battery performance.<br/>Iphone 11 is far better den this..<br/>In 4 hour battery will come down from 100 to 15 percent.<br/>Please dont buy this product at this price.\n",
              " </span>\n",
              " </span>,\n",
              " <span class=\"a-size-base review-text review-text-content\" data-hook=\"review-body\"><div class=\"a-section a-spacing-small a-spacing-top-mini video-block\" id=\"video-block-R1ANBU2PXQO2B6\">\n",
              " <div class=\"cr-video-desktop cr-video-desktop-placeholder\" data-review-id=\"R1ANBU2PXQO2B6\" data-thumbnail-url=\"https://m.media-amazon.com/images/I/31X5EdJEuDL._SY256._SY256.jpg\" data-video-url=\"https://m.media-amazon.com/images/S/vse-vms-transcoding-artifact-eu-west-1-prod/41250d70-3940-4585-9436-3e6b353c3551/default.jobtemplate.hls.m3u8\" id=\"review-video-id-R1ANBU2PXQO2B6\">\n",
              " <div class=\"cr-media-status-container\">\n",
              " <span class=\"a-spinner a-spinner-medium cr-media-spinner\"></span>\n",
              " <span class=\"a-color-inverse cr-media-error-msg\">\n",
              "                     The media could not be loaded.\n",
              "                 </span>\n",
              " </div>\n",
              " </div>\n",
              " </div><input class=\"video-url\" name=\"\" type=\"hidden\" value=\"https://m.media-amazon.com/images/S/vse-vms-transcoding-artifact-eu-west-1-prod/41250d70-3940-4585-9436-3e6b353c3551/default.jobtemplate.mp4.480.mp4\"/><input class=\"video-slate-img-url\" name=\"\" type=\"hidden\" value=\"https://m.media-amazon.com/images/I/31X5EdJEuDL._SY256._SY256.jpg\"/>\n",
              " <span>\n",
              "    Another beauty from Apple. I was upgraded from iPhone X and it was great experience with all the latest specs and flawlessly smooth. Thanks to all new A14 Bionic chip.<br/>Build quality was great as always from Apple.<br/>Phone feels light on hands due to aluminium body. I chose Blue colour because wanted to go for different colour than routine Black and white iPhones so initially I was bit skeptical but after seeing the phone in person I’m happy with the blue colour  “ not bad at all and not too flashy”<br/>Grip and feel perfect. Phone comes with iOS 14.1. Camera quality was excellent and sufficient  as a normal user.<br/>If you are from iOS ecosystem nothing will go wrong here.<br/>There is nothing to question about the quality and interface from Apple ( it’s my personal opinion as a long time apple user)<br/>As you all know iPhone 12 won’t comes with earphones and charging brick( adapter)<br/>I bought separately 20w apple adapter from new Apple India online store for Rs.1900<br/>I don’t judge here apple because of accessories removal and the price tag. I hope apple can justify this.<br/>I only hope and wanted to see so badly Made in India IPhones so that we all can enjoy lower priced ( at least a better priced) iPhones in the future.<br/>A big thanks to Appario Retail Pvt. Ltd and Amazon for delivering genuine iPhone as always in perfect condition. Delivered way before the promised date.<br/>Update: (01/12/2020) After testing 25 days especially on battery life of this iPhone 12, results were amazing and I’m completely satisfied  with the battery performance. On Moderate gaming, Moderate Video Content, heavy on calls and heavy on browsing this iPhone 12 battery life is sufficient for your regular Day.<br/>My conclusion is definitely a better and improved battery performer than the previous iPhone model.<br/>Thank you Apple India<br/>Thank you Appario Retail Pvt. Ltd.<br/>Thank you Amazon India.<br/>( Note: charger brick was shown in my video was bought myself from Apple India online store because it won’t comes with the phone)\n",
              " </span>\n",
              " </span>,\n",
              " <span class=\"a-size-base review-text review-text-content\" data-hook=\"review-body\">\n",
              " <span>\n",
              "   Extremely disappointed with this phone. It’s a seemingly average phone which is over priced by 4 to 5 times at least. This phone is a joke in comparison with any Samsung flagship phone. I am shocked that so many fools like me are falling for apple’s trickery and gimmickry.<br/><br/>The battery doesn’t last half a day. Screen size is average. Thickness of this phone will constantly remind you that this phone belongs to another era. 64gb space won’t be enough for anyone.<br/><br/>And then there are other apple quirks - won’t come with a SD card, won’t come with a charging brick or a set of head phones. Your headphones with the regular audio pin won’t work with this one. Face ID won’t work with masks on. So your forced to remove your masks when you’re out and vulnerable. This phone won’t allow you set google maps as default. So you continue to suffer using their apple map which I bet even Tim Cook doesn’t use. You won’t be able to set google chrome as your default browser as iOS won’t let you.<br/><br/>Overall the phone is overpriced and overrated. Anybody with half the wit will figure that this phone is a joke and a mere marketing gimmick. An ordinary phone like this shouldn’t cost you more than 12 to 14K.<br/><br/>Apple is going down!<br/><br/>Amazon won’t take this phone back as they have a 10 day return policy. So I am pretty much stuck with this damn excuse for a phone till I get to upgrade to a Samsung phone.\n",
              " </span>\n",
              " </span>,\n",
              " <span class=\"a-size-base review-text review-text-content\" data-hook=\"review-body\">\n",
              " <span>\n",
              "   This was my first switch to an ios device after using an android untill now. And I am not disappointed. The build quality, the responsive touch, the display, the camera, the battery life are just exceptional.<br/>Been using for about 10 days now, and consistently giving around 7h of screen on time.<br/>The camera is just way too good. Espeecially the night mode impressed me a lot.<br/>Only issue when switching from Android to iPhone I encountered was to be not able to restore my whatsapp chats. There are no official/free ways for doing this.<br/>The phone is simple amazing.\n",
              " </span>\n",
              " </span>,\n",
              " <span class=\"a-size-base review-text review-text-content\" data-hook=\"review-body\">\n",
              " <span>\n",
              "   If you are planning to buy an iphone then please buy from stores only.<br/>I got a defective product and when I complain about it to amazon customer care and requested for replacement they simply deny to replace it.<br/>Don't waste your money.\n",
              " </span>\n",
              " </span>,\n",
              " <span class=\"a-size-base review-text review-text-content\" data-hook=\"review-body\">\n",
              " <span>\n",
              "   Hello there,<br/>I am writing this review after 3-4 days of usage, Iphone 12 is a beast in terms of:-<br/>Memory<br/>Build quality<br/>Camera<br/>Processor<br/>Display<br/>Except battery there’s rumour going on that iPhone 12 battery is bad or worst, so i am here to clarify all your doubts,<br/>iPhone battery will last easily a day but not more than that and here’s some condition that you should aware about<br/>1. If you are using your phone on wifi than it will last a day easily without any problem.<br/>2. If you are on 4g than it will not last a day for example, if you fully charged your phone at 8 am than it will last till 8 pm not more than that and this happen if you’re on 4g continuously otherwise it will last about 10 pm.<br/>Here’s some tip you should do after buying iPhone 12, watch video on YouTube to know “How to save battery on iPhone 12” this will help you increase your battery life as well battery health.<br/>For my experience, i think you should go for this device without any second thoughts &amp; those who don’t have any tech knowledge and thinking of buying this then I recommend you to go for android because iOS has complicate settings than android...you will regret after buying it.<br/><br/>Got original product Btw!!!!!\n",
              " </span>\n",
              " </span>,\n",
              " <span class=\"a-size-base review-text review-text-content\" data-hook=\"review-body\">\n",
              " <span>\n",
              "   Nicely packed !! Kudos to seller !!<br/>I was very much confused between iphone 11 and this one as the price of iphone dropped ... But i am glad i chose this over iphone 11.<br/>1.Display:<br/>Main upgrade in iphone 12 is the oled display. Boy o boy the screen is amazing. I have user many android flagship's but this beats them all.<br/>2.Battery:<br/>Battery is amazing. I am getting 1.5 days of battery life with my usage.<br/>PS: i dont play games.<br/>3.IOS:<br/>This is my 1st iphone and the experience with ios is great ... Very smooth animations ..even though its not 90hz screen but everything is buttery smooth.<br/>4. Camera:<br/>The pics from this phone is superb. FLAGSHIP LEVEL CAMERA! You will not be dissapointed.<br/>5 Build &amp;Design :<br/>This phone looks and feels very premium compared to other phones.Very comfotable to use.<br/>6.Face Id:<br/>Face id works very fast and accurate in low lighting conditions.<br/>7.Updates:<br/>Ios14 is good and we can expect another 4yrs of software  updates thats huge !<br/><br/>Cons:<br/>1.Priced very high but it may be because of high taxes and custom duty.<br/>2.No charger and earpods in the box.<br/>3.Notifications are a mess ...android is better in managing new notifications.<br/><br/>Overall a great Phone IF You are OK with the Price !!!\n",
              " </span>\n",
              " </span>,\n",
              " <span class=\"a-size-base review-text review-text-content\" data-hook=\"review-body\">\n",
              " <span>\n",
              "   I have been an android user for the past 8+ years. Recently was using iphone 6 for the past few months, liked it much and wanted to switch to ios. I did not want to regret, so i purchased the best in the market, going with iphone 12. Honestly, I dont feel its worthy. Perfomance wise, its good. A lot other phones like MI, 1+ everything gives us a very nice perfomance too. The A14 chip is just a tag line to sell the phone. Are we really going to process million instructions per second on a mobile phone? Defenitely not.<br/><br/>Battery, After charging it to 100% in the morning, I am hardly getting 1 full day with average use. My battery is almost 20% at the end of the day with a screentime of 4-4.3 hours[Update : With low power mode, it makes a 6 hour day, ending with 30%]. Camera quality is amazing in natural light. Yes, as specified it works so nice in night light, but please dont mistake night light as no-light. Front camera is still average. The same things i see in every other mid range android phones. I am still using JIO 4g. Not sure how this would work on 5g (must drain even faster)<br/><br/>Face detenction, the color of the phone, Water resistant and all stuffs are nice to have, fancy items.  But not really convinced if this is all we get for 84k?<br/><br/>Fast charging - I bought a 20W charger from apple store for Rs.1900. I plug in when the battery is 20-25% and it takes 1.45 hours to reach 100%. If this is all about fast charging you are looking for, well and good. I never tried with magsafe, honestly. But this to me doesnt seem fast charging for 2800~ mah battery.<br/><br/>I wont say that this phone is too poor. It gives us all that it promises. Personally I dont recommend investing 85k Indian money into this. Either go for lower versions of other iphones like 11 or you can wait for an year and buy this at cheaper cost.<br/><br/>PROS : Camera &amp; Perfomance<br/>CONS : Battery and Cost\n",
              " </span>\n",
              " </span>,\n",
              " <span class=\"a-size-base review-text review-text-content\" data-hook=\"review-body\">\n",
              " <span>\n",
              "   I am writing this review after 40 days of use of iPhone 12. phone camera is excellent like DSLR ,very fast processor ,face ID feature looks great ,overall everything is fine but only issue which this phone has is , battery draining too fast. You can use 100% battery only for 5-6 hours of continuous use after that you have to charge it. Apple should look into this.\n",
              " </span>\n",
              " </span>]"
            ]
          },
          "metadata": {},
          "execution_count": 40
        }
      ]
    },
    {
      "cell_type": "code",
      "source": [
        "review = []\n",
        "for i in range(0,len(data)):\n",
        "  review.append(data[i].get_text().strip())\n",
        "review"
      ],
      "metadata": {
        "colab": {
          "base_uri": "https://localhost:8080/"
        },
        "id": "vOJPmlRWQeNe",
        "outputId": "c5d8d302-a672-40b4-8507-d6f66a49e864"
      },
      "execution_count": 41,
      "outputs": [
        {
          "output_type": "execute_result",
          "data": {
            "text/plain": [
              "['Sold kidney bought this, now not feeling well but the number of days I am alive with one kidney will enjoy using this phone. Guys be careful if you rich it’s ok else sell something else but not kidney it hurts',\n",
              " 'Worst battery performance.Iphone 11 is far better den this..In 4 hour battery will come down from 100 to 15 percent.Please dont buy this product at this price.',\n",
              " 'The media could not be loaded.\\n                \\n\\n\\n\\n\\n  \\xa0Another beauty from Apple. I was upgraded from iPhone X and it was great experience with all the latest specs and flawlessly smooth. Thanks to all new A14 Bionic chip.Build quality was great as always from Apple.Phone feels light on hands due to aluminium body. I chose Blue colour because wanted to go for different colour than routine Black and white iPhones so initially I was bit skeptical but after seeing the phone in person I’m happy with the blue colour  “ not bad at all and not too flashy”Grip and feel perfect. Phone comes with iOS 14.1. Camera quality was excellent and sufficient  as a normal user.If you are from iOS ecosystem nothing will go wrong here.There is nothing to question about the quality and interface from Apple ( it’s my personal opinion as a long time apple user)As you all know iPhone 12 won’t comes with earphones and charging brick( adapter)I bought separately 20w apple adapter from new Apple India online store for Rs.1900I don’t judge here apple because of accessories removal and the price tag. I hope apple can justify this.I only hope and wanted to see so badly Made in India IPhones so that we all can enjoy lower priced ( at least a better priced) iPhones in the future.A big thanks to Appario Retail Pvt. Ltd and Amazon for delivering genuine iPhone as always in perfect condition. Delivered way before the promised date.Update: (01/12/2020) After testing 25 days especially on battery life of this iPhone 12, results were amazing and I’m completely satisfied  with the battery performance. On Moderate gaming, Moderate Video Content, heavy on calls and heavy on browsing this iPhone 12 battery life is sufficient for your regular Day.My conclusion is definitely a better and improved battery performer than the previous iPhone model.Thank you Apple IndiaThank you Appario Retail Pvt. Ltd.Thank you Amazon India.( Note: charger brick was shown in my video was bought myself from Apple India online store because it won’t comes with the phone)',\n",
              " 'Extremely disappointed with this phone. It’s a seemingly average phone which is over priced by 4 to 5 times at least. This phone is a joke in comparison with any Samsung flagship phone. I am shocked that so many fools like me are falling for apple’s trickery and gimmickry.The battery doesn’t last half a day. Screen size is average. Thickness of this phone will constantly remind you that this phone belongs to another era. 64gb space won’t be enough for anyone.And then there are other apple quirks - won’t come with a SD card, won’t come with a charging brick or a set of head phones. Your headphones with the regular audio pin won’t work with this one. Face ID won’t work with masks on. So your forced to remove your masks when you’re out and vulnerable. This phone won’t allow you set google maps as default. So you continue to suffer using their apple map which I bet even Tim Cook doesn’t use. You won’t be able to set google chrome as your default browser as iOS won’t let you.Overall the phone is overpriced and overrated. Anybody with half the wit will figure that this phone is a joke and a mere marketing gimmick. An ordinary phone like this shouldn’t cost you more than 12 to 14K.Apple is going down!Amazon won’t take this phone back as they have a 10 day return policy. So I am pretty much stuck with this damn excuse for a phone till I get to upgrade to a Samsung phone.',\n",
              " 'This was my first switch to an ios device after using an android untill now. And I am not disappointed. The build quality, the responsive touch, the display, the camera, the battery life are just exceptional.Been using for about 10 days now, and consistently giving around 7h of screen on time.The camera is just way too good. Espeecially the night mode impressed me a lot.Only issue when switching from Android to iPhone I encountered was to be not able to restore my whatsapp chats. There are no official/free ways for doing this.The phone is simple amazing.',\n",
              " \"If you are planning to buy an iphone then please buy from stores only.I got a defective product and when I complain about it to amazon customer care and requested for replacement they simply deny to replace it.Don't waste your money.\",\n",
              " 'Hello there,I am writing this review after 3-4 days of usage, Iphone 12 is a beast in terms of:-MemoryBuild qualityCameraProcessorDisplayExcept battery there’s rumour going on that iPhone 12 battery is bad or worst, so i am here to clarify all your doubts,iPhone battery will last easily a day but not more than that and here’s some condition that you should aware about1. If you are using your phone on wifi than it will last a day easily without any problem.2. If you are on 4g than it will not last a day for example, if you fully charged your phone at 8 am than it will last till 8 pm not more than that and this happen if you’re on 4g continuously otherwise it will last about 10 pm.Here’s some tip you should do after buying iPhone 12, watch video on YouTube to know “How to save battery on iPhone 12” this will help you increase your battery life as well battery health.For my experience, i think you should go for this device without any second thoughts & those who don’t have any tech knowledge and thinking of buying this then I recommend you to go for android because iOS has complicate settings than android...you will regret after buying it.Got original product Btw!!!!!',\n",
              " \"Nicely packed !! Kudos to seller !!I was very much confused between iphone 11 and this one as the price of iphone dropped ... But i am glad i chose this over iphone 11.1.Display:Main upgrade in iphone 12 is the oled display. Boy o boy the screen is amazing. I have user many android flagship's but this beats them all.2.Battery:Battery is amazing. I am getting 1.5 days of battery life with my usage.PS: i dont play games.3.IOS:This is my 1st iphone and the experience with ios is great ... Very smooth animations ..even though its not 90hz screen but everything is buttery smooth.4. Camera:The pics from this phone is superb. FLAGSHIP LEVEL CAMERA! You will not be dissapointed.5 Build &Design :This phone looks and feels very premium compared to other phones.Very comfotable to use.6.Face Id:Face id works very fast and accurate in low lighting conditions.7.Updates:Ios14 is good and we can expect another 4yrs of software  updates thats huge !Cons:1.Priced very high but it may be because of high taxes and custom duty.2.No charger and earpods in the box.3.Notifications are a mess ...android is better in managing new notifications.Overall a great Phone IF You are OK with the Price !!!\",\n",
              " 'I have been an android user for the past 8+ years. Recently was using iphone 6 for the past few months, liked it much and wanted to switch to ios. I did not want to regret, so i purchased the best in the market, going with iphone 12. Honestly, I dont feel its worthy. Perfomance wise, its good. A lot other phones like MI, 1+ everything gives us a very nice perfomance too. The A14 chip is just a tag line to sell the phone. Are we really going to process million instructions per second on a mobile phone? Defenitely not.Battery, After charging it to 100% in the morning, I am hardly getting 1 full day with average use. My battery is almost 20% at the end of the day with a screentime of 4-4.3 hours[Update : With low power mode, it makes a 6 hour day, ending with 30%]. Camera quality is amazing in natural light. Yes, as specified it works so nice in night light, but please dont mistake night light as no-light. Front camera is still average. The same things i see in every other mid range android phones. I am still using JIO 4g. Not sure how this would work on 5g (must drain even faster)Face detenction, the color of the phone, Water resistant and all stuffs are nice to have, fancy items.  But not really convinced if this is all we get for 84k?Fast charging - I bought a 20W charger from apple store for Rs.1900. I plug in when the battery is 20-25% and it takes 1.45 hours to reach 100%. If this is all about fast charging you are looking for, well and good. I never tried with magsafe, honestly. But this to me doesnt seem fast charging for 2800~ mah battery.I wont say that this phone is too poor. It gives us all that it promises. Personally I dont recommend investing 85k Indian money into this. Either go for lower versions of other iphones like 11 or you can wait for an year and buy this at cheaper cost.PROS : Camera & PerfomanceCONS : Battery and Cost',\n",
              " 'I am writing this review after 40 days of use of iPhone 12. phone camera is excellent like DSLR ,very fast processor ,face ID feature looks great ,overall everything is fine but only issue which this phone has is , battery draining too fast. You can use 100% battery only for 5-6 hours of continuous use after that you have to charge it. Apple should look into this.']"
            ]
          },
          "metadata": {},
          "execution_count": 41
        }
      ]
    },
    {
      "cell_type": "code",
      "source": [
        "import pandas as pd\n"
      ],
      "metadata": {
        "id": "nlpvkQmrQePq"
      },
      "execution_count": 42,
      "outputs": []
    },
    {
      "cell_type": "code",
      "source": [
        "df=pd.DataFrame()\n",
        "df[\"CustomerName\"]=reviewer\n",
        "df[\"ReviewTitle\"]=review_title\n",
        "df[\"Rating\"]=rating\n",
        "df[\"DateOfReview\"]=rating_date\n",
        "df[\"Comments\"]=review"
      ],
      "metadata": {
        "id": "RLB4YYUKQeSD"
      },
      "execution_count": 43,
      "outputs": []
    },
    {
      "cell_type": "code",
      "source": [
        "df"
      ],
      "metadata": {
        "colab": {
          "base_uri": "https://localhost:8080/",
          "height": 581
        },
        "id": "shNAlu5DQeUV",
        "outputId": "c79195cf-ed48-4073-f457-a83689c57a7b"
      },
      "execution_count": 44,
      "outputs": [
        {
          "output_type": "execute_result",
          "data": {
            "text/html": [
              "\n",
              "  <div id=\"df-f1b8c905-402a-4aa3-88af-e9608deffd67\">\n",
              "    <div class=\"colab-df-container\">\n",
              "      <div>\n",
              "<style scoped>\n",
              "    .dataframe tbody tr th:only-of-type {\n",
              "        vertical-align: middle;\n",
              "    }\n",
              "\n",
              "    .dataframe tbody tr th {\n",
              "        vertical-align: top;\n",
              "    }\n",
              "\n",
              "    .dataframe thead th {\n",
              "        text-align: right;\n",
              "    }\n",
              "</style>\n",
              "<table border=\"1\" class=\"dataframe\">\n",
              "  <thead>\n",
              "    <tr style=\"text-align: right;\">\n",
              "      <th></th>\n",
              "      <th>CustomerName</th>\n",
              "      <th>ReviewTitle</th>\n",
              "      <th>Rating</th>\n",
              "      <th>DateOfReview</th>\n",
              "      <th>Comments</th>\n",
              "    </tr>\n",
              "  </thead>\n",
              "  <tbody>\n",
              "    <tr>\n",
              "      <th>0</th>\n",
              "      <td>Amazon Customer</td>\n",
              "      <td>Kidney as a load balancer</td>\n",
              "      <td>4.0 out of 5 stars</td>\n",
              "      <td>Reviewed in India on 21 November 2020</td>\n",
              "      <td>Sold kidney bought this, now not feeling well ...</td>\n",
              "    </tr>\n",
              "    <tr>\n",
              "      <th>1</th>\n",
              "      <td>Akash Sinha</td>\n",
              "      <td>Worst battery</td>\n",
              "      <td>3.0 out of 5 stars</td>\n",
              "      <td>Reviewed in India on 7 November 2020</td>\n",
              "      <td>Worst battery performance.Iphone 11 is far bet...</td>\n",
              "    </tr>\n",
              "    <tr>\n",
              "      <th>2</th>\n",
              "      <td>S.Siva Ram Kris</td>\n",
              "      <td>Another Fabulous IPhone ( IPhone 12, Blue 64GB)</td>\n",
              "      <td>5.0 out of 5 stars</td>\n",
              "      <td>Reviewed in India on 7 November 2020</td>\n",
              "      <td>The media could not be loaded.\\n              ...</td>\n",
              "    </tr>\n",
              "    <tr>\n",
              "      <th>3</th>\n",
              "      <td>Anupam</td>\n",
              "      <td>This phone is a joke and the joke is on us!!! ...</td>\n",
              "      <td>1.0 out of 5 stars</td>\n",
              "      <td>Reviewed in India on 7 January 2021</td>\n",
              "      <td>Extremely disappointed with this phone. It’s a...</td>\n",
              "    </tr>\n",
              "    <tr>\n",
              "      <th>4</th>\n",
              "      <td>Paras</td>\n",
              "      <td>The Beast</td>\n",
              "      <td>5.0 out of 5 stars</td>\n",
              "      <td>Reviewed in India on 13 November 2020</td>\n",
              "      <td>This was my first switch to an ios device afte...</td>\n",
              "    </tr>\n",
              "    <tr>\n",
              "      <th>5</th>\n",
              "      <td>Debabrato Chakraborty</td>\n",
              "      <td>Don't Buy from Amazon</td>\n",
              "      <td>1.0 out of 5 stars</td>\n",
              "      <td>Reviewed in India on 7 February 2021</td>\n",
              "      <td>If you are planning to buy an iphone then plea...</td>\n",
              "    </tr>\n",
              "    <tr>\n",
              "      <th>6</th>\n",
              "      <td>Elliot</td>\n",
              "      <td>Beast🤩🤩🤩🤩</td>\n",
              "      <td>4.0 out of 5 stars</td>\n",
              "      <td>Reviewed in India on 9 November 2020</td>\n",
              "      <td>Hello there,I am writing this review after 3-4...</td>\n",
              "    </tr>\n",
              "    <tr>\n",
              "      <th>7</th>\n",
              "      <td>Chetan Pamini</td>\n",
              "      <td>99.99% Perfect Smartphone !!</td>\n",
              "      <td>5.0 out of 5 stars</td>\n",
              "      <td>Reviewed in India on 8 November 2020</td>\n",
              "      <td>Nicely packed !! Kudos to seller !!I was very ...</td>\n",
              "    </tr>\n",
              "    <tr>\n",
              "      <th>8</th>\n",
              "      <td>RakhuNathan</td>\n",
              "      <td>Not Really worth the money</td>\n",
              "      <td>4.0 out of 5 stars</td>\n",
              "      <td>Reviewed in India on 18 December 2020</td>\n",
              "      <td>I have been an android user for the past 8+ ye...</td>\n",
              "    </tr>\n",
              "    <tr>\n",
              "      <th>9</th>\n",
              "      <td>Mr. k  singh</td>\n",
              "      <td>Performance is excellent,battery draining too ...</td>\n",
              "      <td>4.0 out of 5 stars</td>\n",
              "      <td>Reviewed in India on 7 November 2020</td>\n",
              "      <td>I am writing this review after 40 days of use ...</td>\n",
              "    </tr>\n",
              "  </tbody>\n",
              "</table>\n",
              "</div>\n",
              "      <button class=\"colab-df-convert\" onclick=\"convertToInteractive('df-f1b8c905-402a-4aa3-88af-e9608deffd67')\"\n",
              "              title=\"Convert this dataframe to an interactive table.\"\n",
              "              style=\"display:none;\">\n",
              "        \n",
              "  <svg xmlns=\"http://www.w3.org/2000/svg\" height=\"24px\"viewBox=\"0 0 24 24\"\n",
              "       width=\"24px\">\n",
              "    <path d=\"M0 0h24v24H0V0z\" fill=\"none\"/>\n",
              "    <path d=\"M18.56 5.44l.94 2.06.94-2.06 2.06-.94-2.06-.94-.94-2.06-.94 2.06-2.06.94zm-11 1L8.5 8.5l.94-2.06 2.06-.94-2.06-.94L8.5 2.5l-.94 2.06-2.06.94zm10 10l.94 2.06.94-2.06 2.06-.94-2.06-.94-.94-2.06-.94 2.06-2.06.94z\"/><path d=\"M17.41 7.96l-1.37-1.37c-.4-.4-.92-.59-1.43-.59-.52 0-1.04.2-1.43.59L10.3 9.45l-7.72 7.72c-.78.78-.78 2.05 0 2.83L4 21.41c.39.39.9.59 1.41.59.51 0 1.02-.2 1.41-.59l7.78-7.78 2.81-2.81c.8-.78.8-2.07 0-2.86zM5.41 20L4 18.59l7.72-7.72 1.47 1.35L5.41 20z\"/>\n",
              "  </svg>\n",
              "      </button>\n",
              "      \n",
              "  <style>\n",
              "    .colab-df-container {\n",
              "      display:flex;\n",
              "      flex-wrap:wrap;\n",
              "      gap: 12px;\n",
              "    }\n",
              "\n",
              "    .colab-df-convert {\n",
              "      background-color: #E8F0FE;\n",
              "      border: none;\n",
              "      border-radius: 50%;\n",
              "      cursor: pointer;\n",
              "      display: none;\n",
              "      fill: #1967D2;\n",
              "      height: 32px;\n",
              "      padding: 0 0 0 0;\n",
              "      width: 32px;\n",
              "    }\n",
              "\n",
              "    .colab-df-convert:hover {\n",
              "      background-color: #E2EBFA;\n",
              "      box-shadow: 0px 1px 2px rgba(60, 64, 67, 0.3), 0px 1px 3px 1px rgba(60, 64, 67, 0.15);\n",
              "      fill: #174EA6;\n",
              "    }\n",
              "\n",
              "    [theme=dark] .colab-df-convert {\n",
              "      background-color: #3B4455;\n",
              "      fill: #D2E3FC;\n",
              "    }\n",
              "\n",
              "    [theme=dark] .colab-df-convert:hover {\n",
              "      background-color: #434B5C;\n",
              "      box-shadow: 0px 1px 3px 1px rgba(0, 0, 0, 0.15);\n",
              "      filter: drop-shadow(0px 1px 2px rgba(0, 0, 0, 0.3));\n",
              "      fill: #FFFFFF;\n",
              "    }\n",
              "  </style>\n",
              "\n",
              "      <script>\n",
              "        const buttonEl =\n",
              "          document.querySelector('#df-f1b8c905-402a-4aa3-88af-e9608deffd67 button.colab-df-convert');\n",
              "        buttonEl.style.display =\n",
              "          google.colab.kernel.accessAllowed ? 'block' : 'none';\n",
              "\n",
              "        async function convertToInteractive(key) {\n",
              "          const element = document.querySelector('#df-f1b8c905-402a-4aa3-88af-e9608deffd67');\n",
              "          const dataTable =\n",
              "            await google.colab.kernel.invokeFunction('convertToInteractive',\n",
              "                                                     [key], {});\n",
              "          if (!dataTable) return;\n",
              "\n",
              "          const docLinkHtml = 'Like what you see? Visit the ' +\n",
              "            '<a target=\"_blank\" href=https://colab.research.google.com/notebooks/data_table.ipynb>data table notebook</a>'\n",
              "            + ' to learn more about interactive tables.';\n",
              "          element.innerHTML = '';\n",
              "          dataTable['output_type'] = 'display_data';\n",
              "          await google.colab.output.renderOutput(dataTable, element);\n",
              "          const docLink = document.createElement('div');\n",
              "          docLink.innerHTML = docLinkHtml;\n",
              "          element.appendChild(docLink);\n",
              "        }\n",
              "      </script>\n",
              "    </div>\n",
              "  </div>\n",
              "  "
            ],
            "text/plain": [
              "             CustomerName  ...                                           Comments\n",
              "0         Amazon Customer  ...  Sold kidney bought this, now not feeling well ...\n",
              "1             Akash Sinha  ...  Worst battery performance.Iphone 11 is far bet...\n",
              "2         S.Siva Ram Kris  ...  The media could not be loaded.\\n              ...\n",
              "3                  Anupam  ...  Extremely disappointed with this phone. It’s a...\n",
              "4                   Paras  ...  This was my first switch to an ios device afte...\n",
              "5  Debabrato Chakraborty   ...  If you are planning to buy an iphone then plea...\n",
              "6                  Elliot  ...  Hello there,I am writing this review after 3-4...\n",
              "7           Chetan Pamini  ...  Nicely packed !! Kudos to seller !!I was very ...\n",
              "8             RakhuNathan  ...  I have been an android user for the past 8+ ye...\n",
              "9            Mr. k  singh  ...  I am writing this review after 40 days of use ...\n",
              "\n",
              "[10 rows x 5 columns]"
            ]
          },
          "metadata": {},
          "execution_count": 44
        }
      ]
    },
    {
      "cell_type": "code",
      "source": [
        "df.to_csv(r'C:\\Users\\Webscraping',index=True)"
      ],
      "metadata": {
        "id": "DpwbfdxFQeWm"
      },
      "execution_count": null,
      "outputs": []
    },
    {
      "cell_type": "code",
      "source": [
        ""
      ],
      "metadata": {
        "id": "SVQQjj8kSgFI"
      },
      "execution_count": null,
      "outputs": []
    },
    {
      "cell_type": "code",
      "source": [
        ""
      ],
      "metadata": {
        "id": "eX1DspDAQeZF"
      },
      "execution_count": null,
      "outputs": []
    },
    {
      "cell_type": "code",
      "source": [
        ""
      ],
      "metadata": {
        "id": "Oqndwh6mQeb2"
      },
      "execution_count": null,
      "outputs": []
    },
    {
      "cell_type": "code",
      "source": [
        ""
      ],
      "metadata": {
        "id": "tWxVaGpCQed9"
      },
      "execution_count": null,
      "outputs": []
    },
    {
      "cell_type": "code",
      "source": [
        ""
      ],
      "metadata": {
        "id": "n5os0nrSQegV"
      },
      "execution_count": null,
      "outputs": []
    },
    {
      "cell_type": "code",
      "source": [
        ""
      ],
      "metadata": {
        "id": "HHsvruifQei7"
      },
      "execution_count": null,
      "outputs": []
    },
    {
      "cell_type": "code",
      "source": [
        ""
      ],
      "metadata": {
        "id": "-i_pO961QelR"
      },
      "execution_count": null,
      "outputs": []
    },
    {
      "cell_type": "code",
      "source": [
        ""
      ],
      "metadata": {
        "id": "dQrg__rqQen5"
      },
      "execution_count": null,
      "outputs": []
    },
    {
      "cell_type": "code",
      "source": [
        ""
      ],
      "metadata": {
        "id": "3OB_BMDhQeqj"
      },
      "execution_count": null,
      "outputs": []
    },
    {
      "cell_type": "code",
      "source": [
        ""
      ],
      "metadata": {
        "id": "dJXbXhsOQetO"
      },
      "execution_count": null,
      "outputs": []
    },
    {
      "cell_type": "code",
      "source": [
        ""
      ],
      "metadata": {
        "id": "qv8saxG3Qeva"
      },
      "execution_count": null,
      "outputs": []
    }
  ],
  "metadata": {
    "colab": {
      "name": "Web scrapping",
      "provenance": []
    },
    "kernelspec": {
      "display_name": "Python 3",
      "name": "python3"
    },
    "language_info": {
      "name": "python"
    }
  },
  "nbformat": 4,
  "nbformat_minor": 0
}